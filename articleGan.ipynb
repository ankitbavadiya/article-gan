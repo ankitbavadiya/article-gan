{
 "cells": [
  {
   "cell_type": "code",
   "execution_count": 1,
   "id": "851c6961",
   "metadata": {},
   "outputs": [
    {
     "name": "stderr",
     "output_type": "stream",
     "text": [
      "All model checkpoint layers were used when initializing TFGPT2LMHeadModel.\n",
      "\n",
      "All the layers of TFGPT2LMHeadModel were initialized from the model checkpoint at gpt2.\n",
      "If your task is similar to the task the model of the checkpoint was trained on, you can already use TFGPT2LMHeadModel for predictions without further training.\n"
     ]
    }
   ],
   "source": [
    "# Importing the pipeline function from the transformers library\n",
    "from transformers import pipeline\n",
    "\n",
    "# Creating a TextGenerationPipeline for text generation\n",
    "generator = pipeline(task='text-generation', model='gpt2')"
   ]
  },
  {
   "cell_type": "code",
   "execution_count": 4,
   "id": "d6a388a9",
   "metadata": {},
   "outputs": [
    {
     "name": "stderr",
     "output_type": "stream",
     "text": [
      "Using pad_token, but it is not set yet.\n",
      "Setting `pad_token_id` to 50256 (first `eos_token_id`) to generate sequence\n"
     ]
    }
   ],
   "source": [
    "article = generator(\"What is nodeJS?\", max_length=160, num_return_sequences=2)"
   ]
  },
  {
   "cell_type": "code",
   "execution_count": 6,
   "id": "2385c054",
   "metadata": {},
   "outputs": [
    {
     "name": "stdout",
     "output_type": "stream",
     "text": [
      "[{'generated_text': 'What is nodeJS?\\n\\nnpm install nodejs --save-dev It\\'s the very beginning of Node.js. You can add this to your .exs and require it\\'s own node module to your module folder:\\n\\n{ \"modules\": { \"example\": { \"version\": \"1.0.0\" }, \"main\": \"nodejs:bin/server\" } } }\\n\\nNpm is a small utility that makes it easier to install an application with Node.js. The default implementation is a Node module called main . This means that it takes as root the node folder, and you can only run any Node modules and test it.\\n\\nnpm install nodejs npm test\\n\\nYou have to install this module in your module folder:\\n'}, {'generated_text': 'What is nodeJS?\\n\\nnodejs is a project which runs on the AWS platform. This lets a developer of a node version share some code with AWS on their own servers.\\n\\nHowever, it also means that there is very little overhead, so it is not an absolute impossible to build.\\n\\nIf you are looking for an alternative to Node, the other way is by using NPM.\\n\\nHowever, if you want to support the performance of your applications, it is not likely you should run nodejs native first – particularly if you still want to run the Node runtime and are not already on a different version to NPM.\\n\\nNpm installs itself on your hard drive and is a fast alternative to Node. To install it, download a clean copy of npm install'}]\n"
     ]
    }
   ],
   "source": [
    "print(article)"
   ]
  }
 ],
 "metadata": {
  "kernelspec": {
   "display_name": "Python 3 (ipykernel)",
   "language": "python",
   "name": "python3"
  },
  "language_info": {
   "codemirror_mode": {
    "name": "ipython",
    "version": 3
   },
   "file_extension": ".py",
   "mimetype": "text/x-python",
   "name": "python",
   "nbconvert_exporter": "python",
   "pygments_lexer": "ipython3",
   "version": "3.8.8"
  }
 },
 "nbformat": 4,
 "nbformat_minor": 5
}
